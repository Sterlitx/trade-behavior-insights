{
 "cells": [
  {
   "cell_type": "markdown",
   "id": "5c91bca9",
   "metadata": {},
   "source": [
    "# 📊 Trader Behavior Insights\n",
    "**By Pagidakula Akshara**\n",
    "\n",
    "This notebook explores the relationship between Bitcoin market sentiment and trader performance using:\n",
    "- Historical trader data from Hyperliquid\n",
    "- Bitcoin Fear & Greed Index data\n",
    "\n",
    "**Objective:** Uncover whether traders behave differently during Fear vs Greed sentiment conditions."
   ]
  },
  {
   "cell_type": "code",
   "execution_count": null,
   "id": "37201cac",
   "metadata": {},
   "outputs": [],
   "source": [
    "import pandas as pd\n",
    "import matplotlib.pyplot as plt\n",
    "import seaborn as sns\n",
    "sns.set(style='whitegrid')"
   ]
  },
  {
   "cell_type": "code",
   "execution_count": null,
   "id": "249207c7",
   "metadata": {},
   "outputs": [],
   "source": [
    "# Load the CSV files\n",
    "fear_greed_df = pd.read_csv('fear_greed_index.csv')\n",
    "historical_df = pd.read_csv('historical_data.csv')"
   ]
  },
  {
   "cell_type": "code",
   "execution_count": null,
   "id": "7fee28ca",
   "metadata": {},
   "outputs": [],
   "source": [
    "# Convert and merge datasets\n",
    "fear_greed_df['date'] = pd.to_datetime(fear_greed_df['date'])\n",
    "historical_df['date'] = pd.to_datetime(pd.to_datetime(historical_df['Timestamp IST']).dt.date)\n",
    "merged_df = pd.merge(historical_df, fear_greed_df[['date', 'classification']], on='date', how='inner')\n",
    "merged_df.to_csv('merged_trader_sentiment_data.csv', index=False)\n",
    "merged_df.head()"
   ]
  },
  {
   "cell_type": "code",
   "execution_count": null,
   "id": "1d2cf764",
   "metadata": {},
   "outputs": [],
   "source": [
    "# Summary PnL stats by sentiment\n",
    "summary_stats = merged_df.groupby('classification').agg(\n",
    "    total_trades=('Closed PnL', 'count'),\n",
    "    total_pnl=('Closed PnL', 'sum'),\n",
    "    avg_pnl=('Closed PnL', 'mean'),\n",
    "    median_pnl=('Closed PnL', 'median'),\n",
    "    std_pnl=('Closed PnL', 'std')\n",
    ").round(2)\n",
    "summary_stats"
   ]
  },
  {
   "cell_type": "code",
   "execution_count": null,
   "id": "06b4845b",
   "metadata": {},
   "outputs": [],
   "source": [
    "# Boxplot: Closed PnL by Sentiment\n",
    "plt.figure(figsize=(12, 6))\n",
    "sns.boxplot(data=merged_df, x='classification', y='Closed PnL')\n",
    "plt.title('Closed PnL Distribution by Market Sentiment')\n",
    "plt.ylabel('Closed PnL ($)')\n",
    "plt.xlabel('Market Sentiment')\n",
    "plt.xticks(rotation=15)\n",
    "plt.tight_layout()\n",
    "plt.show()"
   ]
  },
  {
   "cell_type": "code",
   "execution_count": null,
   "id": "7f19d5f0",
   "metadata": {},
   "outputs": [],
   "source": [
    "# Bar plot: Total trades by sentiment\n",
    "plt.figure(figsize=(10, 6))\n",
    "counts = merged_df['classification'].value_counts().reindex(\n",
    "    ['Extreme Fear', 'Fear', 'Neutral', 'Greed', 'Extreme Greed']\n",
    ")\n",
    "sns.barplot(x=counts.index, y=counts.values, palette='Set2')\n",
    "plt.title('Total Trades by Sentiment')\n",
    "plt.ylabel('Number of Trades')\n",
    "plt.xlabel('Market Sentiment')\n",
    "plt.tight_layout()\n",
    "plt.show()"
   ]
  },
  {
   "cell_type": "code",
   "execution_count": null,
   "id": "bad5a4fa",
   "metadata": {},
   "outputs": [],
   "source": [
    "# Bar plot: Volatility by sentiment\n",
    "plt.figure(figsize=(10, 6))\n",
    "stds = merged_df.groupby('classification')['Closed PnL'].std().reindex(\n",
    "    ['Extreme Fear', 'Fear', 'Neutral', 'Greed', 'Extreme Greed']\n",
    ")\n",
    "sns.barplot(x=stds.index, y=stds.values, palette='coolwarm')\n",
    "plt.title('PnL Volatility by Market Sentiment')\n",
    "plt.ylabel('Standard Deviation of PnL')\n",
    "plt.xlabel('Market Sentiment')\n",
    "plt.tight_layout()\n",
    "plt.show()"
   ]
  },
  {
   "cell_type": "markdown",
   "id": "15aa5c6f",
   "metadata": {},
   "source": [
    "## 📌 Insights Summary\n",
    "- **Extreme Greed** had the highest average PnL.\n",
    "- **Extreme Fear** had the highest volatility in PnL.\n",
    "- Most trades had median PnL = $0, suggesting break-even behavior.\n",
    "- Traders tend to perform differently depending on market sentiment.\n",
    "\n",
    "**Prepared by:** Pagidakula Akshara"
   ]
  }
 ],
 "metadata": {},
 "nbformat": 4,
 "nbformat_minor": 5
}
